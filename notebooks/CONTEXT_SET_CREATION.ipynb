{
 "cells": [
  {
   "cell_type": "code",
   "execution_count": 10,
   "id": "f5fcf71b-ec39-465a-8e72-eaec0f4a2a9c",
   "metadata": {},
   "outputs": [],
   "source": [
    "import numpy as np\n",
    "from sklearn.metrics import recall_score\n",
    "import torch\n",
    "from sklearn.metrics.pairwise import cosine_similarity"
   ]
  },
  {
   "cell_type": "markdown",
   "id": "fec94143-d0ba-4323-92bb-90ba33377669",
   "metadata": {},
   "source": [
    "\n",
    "1. We need to compute the latent space representation and the std and mean to obtain the mask to apply over the training points\n",
    "2. then compute the average across modalities and across samples\n",
    "3. compute the std and select the training points that fall outside of the distribution"
   ]
  },
  {
   "cell_type": "code",
   "execution_count": 11,
   "id": "478eafa6-7919-45ae-b6ea-a1ede41f7655",
   "metadata": {},
   "outputs": [],
   "source": [
    "data_folder_inference_data = \"../shamoutlab/\"\n",
    "task = \"phenotyping\"\n",
    "seed = 0"
   ]
  },
  {
   "cell_type": "code",
   "execution_count": 12,
   "id": "8ae3ba33-01fd-4da7-bd25-d9a61637d3fc",
   "metadata": {},
   "outputs": [],
   "source": [
    "npz_data = np.load(f\"{data_folder_inference_data}/train_points_for_context_{task}_original_splits.npz\")"
   ]
  },
  {
   "cell_type": "code",
   "execution_count": 13,
   "id": "7f2b7f04-81d3-41d7-92d3-9cb87adf09f6",
   "metadata": {},
   "outputs": [],
   "source": [
    "latent_data = np.load(f\"{data_folder_inference_data}/latent_space_representation_phenotyping.npz\")"
   ]
  },
  {
   "cell_type": "code",
   "execution_count": 14,
   "id": "36bd60da-ad10-4f50-af3e-73e509266a32",
   "metadata": {},
   "outputs": [
    {
     "name": "stdout",
     "output_type": "stream",
     "text": [
      "['ehr_features', 'cxr_features']\n"
     ]
    }
   ],
   "source": [
    "print(latent_data.files)"
   ]
  },
  {
   "cell_type": "code",
   "execution_count": 17,
   "id": "fd35d837-0280-4c20-bfdd-e6c7c4a6a823",
   "metadata": {},
   "outputs": [
    {
     "data": {
      "text/plain": [
       "(7756, 256)"
      ]
     },
     "execution_count": 17,
     "metadata": {},
     "output_type": "execute_result"
    }
   ],
   "source": [
    "ehr_features = latent_data[\"ehr_features\"]\n",
    "ehr_features.shape"
   ]
  },
  {
   "cell_type": "code",
   "execution_count": 18,
   "id": "4de249c4-aec1-4628-8684-65d21ac3027a",
   "metadata": {},
   "outputs": [
    {
     "data": {
      "text/plain": [
       "(7756, 256)"
      ]
     },
     "execution_count": 18,
     "metadata": {},
     "output_type": "execute_result"
    }
   ],
   "source": [
    "cxr_feats = latent_data[\"cxr_features\"]\n",
    "cxr_feats.shape"
   ]
  },
  {
   "cell_type": "code",
   "execution_count": 19,
   "id": "48a809ec-2871-42be-82d0-8bb3020bb857",
   "metadata": {},
   "outputs": [
    {
     "name": "stdout",
     "output_type": "stream",
     "text": [
      "['ehr_inputs', 'ehr_targets', 'cxr_inputs', 'cxr_targets', 'ehr_cxr_pairs', 'preds', 'targets']\n"
     ]
    }
   ],
   "source": [
    "print(npz_data.files)"
   ]
  },
  {
   "cell_type": "code",
   "execution_count": 20,
   "id": "2f0dcf6a-fea3-44aa-87a4-246c28abea58",
   "metadata": {},
   "outputs": [
    {
     "data": {
      "text/plain": [
       "(7756, 100, 76)"
      ]
     },
     "execution_count": 20,
     "metadata": {},
     "output_type": "execute_result"
    }
   ],
   "source": [
    "ehr_inputs = npz_data[\"ehr_inputs\"]\n",
    "ehr_inputs.shape"
   ]
  },
  {
   "cell_type": "code",
   "execution_count": 21,
   "id": "069790fb-7618-45c1-b2e2-ac7eb79c1348",
   "metadata": {},
   "outputs": [
    {
     "data": {
      "text/plain": [
       "(7756, 25)"
      ]
     },
     "execution_count": 21,
     "metadata": {},
     "output_type": "execute_result"
    }
   ],
   "source": [
    "ehr_targets = npz_data[\"ehr_targets\"]\n",
    "ehr_targets.shape"
   ]
  },
  {
   "cell_type": "code",
   "execution_count": 22,
   "id": "82daa7c3-7b07-4c20-a396-e40c023b829a",
   "metadata": {},
   "outputs": [
    {
     "data": {
      "text/plain": [
       "array([32.27178958,  8.14853017,  8.63847344, 37.91903043, 23.22073234,\n",
       "       16.3744198 , 21.76379577, 10.71428571, 31.03403816, 30.94378546,\n",
       "       11.81021145, 20.52604435, 40.5234657 , 44.31407942, 45.70654977,\n",
       "        7.14285714, 21.09334709, 16.32284683, 12.86745745,  6.03403816,\n",
       "        9.77307891, 18.78545642, 28.13305828, 22.40845797, 17.93450232])"
      ]
     },
     "execution_count": 22,
     "metadata": {},
     "output_type": "execute_result"
    }
   ],
   "source": [
    "(ehr_targets.sum(axis=0)/7756)*100"
   ]
  },
  {
   "cell_type": "code",
   "execution_count": 23,
   "id": "6e476c2c-8267-42ed-8478-1463c3c77171",
   "metadata": {},
   "outputs": [
    {
     "data": {
      "text/plain": [
       "(7756,)"
      ]
     },
     "execution_count": 23,
     "metadata": {},
     "output_type": "execute_result"
    }
   ],
   "source": [
    "(ehr_targets.sum(axis=1) > 0).shape"
   ]
  },
  {
   "cell_type": "code",
   "execution_count": 24,
   "id": "4134b615-04c0-44d7-8ca3-db3a13c2d025",
   "metadata": {},
   "outputs": [
    {
     "data": {
      "text/plain": [
       "array([ True,  True,  True, ...,  True,  True,  True])"
      ]
     },
     "execution_count": 24,
     "metadata": {},
     "output_type": "execute_result"
    }
   ],
   "source": [
    "(ehr_targets.sum(axis=1) > 0)"
   ]
  },
  {
   "cell_type": "code",
   "execution_count": 13,
   "id": "e66f40c5-8f6d-4470-937e-0d7727ba86be",
   "metadata": {},
   "outputs": [
    {
     "name": "stdout",
     "output_type": "stream",
     "text": [
      "7052 patients with 1 conditions\n",
      "6387 patients with 2 conditions\n",
      "5563 patients with 3 conditions\n",
      "4647 patients with 4 conditions\n",
      "3652 patients with 5 conditions\n",
      "2724 patients with 6 conditions\n",
      "1905 patients with 7 conditions\n",
      "1253 patients with 8 conditions\n",
      "746 patients with 9 conditions\n",
      "413 patients with 10 conditions\n",
      "235 patients with 11 conditions\n",
      "114 patients with 12 conditions\n",
      "36 patients with 13 conditions\n",
      "13 patients with 14 conditions\n",
      "3 patients with 15 conditions\n",
      "0 patients with 16 conditions\n",
      "0 patients with 17 conditions\n",
      "0 patients with 18 conditions\n",
      "0 patients with 19 conditions\n",
      "0 patients with 20 conditions\n",
      "0 patients with 21 conditions\n",
      "0 patients with 22 conditions\n",
      "0 patients with 23 conditions\n",
      "0 patients with 24 conditions\n",
      "0 patients with 25 conditions\n"
     ]
    }
   ],
   "source": [
    "for i in range(1,26):\n",
    "    print(f\"{(ehr_targets.sum(axis=1) > i).sum()} patients with {i} conditions\")"
   ]
  },
  {
   "cell_type": "code",
   "execution_count": 90,
   "id": "b07e0d52-d599-46f0-9842-59dfa6251907",
   "metadata": {},
   "outputs": [],
   "source": [
    "mask = ((ehr_targets.sum(axis=1) > 15).astype(int))"
   ]
  },
  {
   "cell_type": "code",
   "execution_count": 92,
   "id": "2820d549-247c-4812-830c-c1b305adb529",
   "metadata": {},
   "outputs": [
    {
     "data": {
      "text/plain": [
       "(7756,)"
      ]
     },
     "execution_count": 92,
     "metadata": {},
     "output_type": "execute_result"
    }
   ],
   "source": [
    "mask.shape"
   ]
  },
  {
   "cell_type": "code",
   "execution_count": 102,
   "id": "b48c7f65-5321-408e-9f81-a6e3df8874d0",
   "metadata": {},
   "outputs": [
    {
     "data": {
      "text/plain": [
       "(3, 7756)"
      ]
     },
     "execution_count": 102,
     "metadata": {},
     "output_type": "execute_result"
    }
   ],
   "source": [
    "np.tile(mask, (3,1)).shape"
   ]
  },
  {
   "cell_type": "code",
   "execution_count": 36,
   "id": "6acbb3c1-607f-461b-8deb-8471630e8881",
   "metadata": {},
   "outputs": [
    {
     "data": {
      "text/plain": [
       "(7756,)"
      ]
     },
     "execution_count": 36,
     "metadata": {},
     "output_type": "execute_result"
    }
   ],
   "source": [
    "mask.shape"
   ]
  },
  {
   "cell_type": "code",
   "execution_count": 55,
   "id": "907bce13-a5d9-4c18-8fb5-df8bfedfa4b1",
   "metadata": {},
   "outputs": [],
   "source": [
    "mask_2d = np.repeat(mask[:, np.newaxis], 25, axis=1)  # shape: (7756, 25)"
   ]
  },
  {
   "cell_type": "code",
   "execution_count": 57,
   "id": "6b5b8649-d02b-4643-8a5b-b87ddd6dfdcb",
   "metadata": {},
   "outputs": [
    {
     "data": {
      "text/plain": [
       "(7756, 25)"
      ]
     },
     "execution_count": 57,
     "metadata": {},
     "output_type": "execute_result"
    }
   ],
   "source": [
    "mask_2d.shape"
   ]
  },
  {
   "cell_type": "code",
   "execution_count": 69,
   "id": "1990bb7c-18af-4ce9-8156-d98e43016b79",
   "metadata": {},
   "outputs": [
    {
     "data": {
      "text/plain": [
       "(7756, 100, 76)"
      ]
     },
     "execution_count": 69,
     "metadata": {},
     "output_type": "execute_result"
    }
   ],
   "source": [
    "ehr_inputs.shape"
   ]
  },
  {
   "cell_type": "code",
   "execution_count": 76,
   "id": "b421196d-8c20-4a13-a6dc-4ae823b50234",
   "metadata": {},
   "outputs": [
    {
     "data": {
      "text/plain": [
       "(7756, 100, 76)"
      ]
     },
     "execution_count": 76,
     "metadata": {},
     "output_type": "execute_result"
    }
   ],
   "source": [
    "(ehr_inputs.T*mask).T.shape"
   ]
  },
  {
   "cell_type": "code",
   "execution_count": 73,
   "id": "df664c52-7477-4d46-b81c-e7dd3dd7e284",
   "metadata": {},
   "outputs": [
    {
     "data": {
      "text/plain": [
       "(7756, 25)"
      ]
     },
     "execution_count": 73,
     "metadata": {},
     "output_type": "execute_result"
    }
   ],
   "source": [
    "(ehr_targets*mask_2d).shape"
   ]
  },
  {
   "cell_type": "code",
   "execution_count": 80,
   "id": "5895e0b5-c8be-4fc3-8601-a82882da1978",
   "metadata": {},
   "outputs": [
    {
     "data": {
      "text/plain": [
       "(25, 7756)"
      ]
     },
     "execution_count": 80,
     "metadata": {},
     "output_type": "execute_result"
    }
   ],
   "source": [
    "(ehr_targets.T*mask"
   ]
  },
  {
   "cell_type": "code",
   "execution_count": 86,
   "id": "a8ef6e7a-d4bf-452b-80af-c41ddaa5bfc6",
   "metadata": {},
   "outputs": [
    {
     "ename": "ValueError",
     "evalue": "shapes (7756,) and (25,7756) not aligned: 7756 (dim 0) != 25 (dim 0)",
     "output_type": "error",
     "traceback": [
      "\u001b[0;31m---------------------------------------------------------------------------\u001b[0m",
      "\u001b[0;31mValueError\u001b[0m                                Traceback (most recent call last)",
      "Cell \u001b[0;32mIn[86], line 1\u001b[0m\n\u001b[0;32m----> 1\u001b[0m \u001b[43mnp\u001b[49m\u001b[38;5;241;43m.\u001b[39;49m\u001b[43mdot\u001b[49m\u001b[43m(\u001b[49m\u001b[43mmask\u001b[49m\u001b[43m,\u001b[49m\u001b[43m \u001b[49m\u001b[43mehr_targets\u001b[49m\u001b[38;5;241;43m.\u001b[39;49m\u001b[43mT\u001b[49m\u001b[43m)\u001b[49m\n",
      "File \u001b[0;32m<__array_function__ internals>:200\u001b[0m, in \u001b[0;36mdot\u001b[0;34m(*args, **kwargs)\u001b[0m\n",
      "\u001b[0;31mValueError\u001b[0m: shapes (7756,) and (25,7756) not aligned: 7756 (dim 0) != 25 (dim 0)"
     ]
    }
   ],
   "source": [
    "np.dot(mask, ehr_targets.T)"
   ]
  },
  {
   "cell_type": "code",
   "execution_count": 26,
   "id": "30ca7de8-72b7-4ff9-8a5e-142324d1e9f5",
   "metadata": {},
   "outputs": [
    {
     "data": {
      "text/plain": [
       "(3, 25)"
      ]
     },
     "execution_count": 26,
     "metadata": {},
     "output_type": "execute_result"
    }
   ],
   "source": [
    "ehr_targets[mask].shape"
   ]
  },
  {
   "cell_type": "code",
   "execution_count": 72,
   "id": "43f81725-71de-42e7-b22d-5f9c8b7d40a1",
   "metadata": {},
   "outputs": [
    {
     "data": {
      "text/plain": [
       "(7756, 25)"
      ]
     },
     "execution_count": 72,
     "metadata": {},
     "output_type": "execute_result"
    }
   ],
   "source": [
    "((ehr_targets.T*mask).T).shape"
   ]
  },
  {
   "cell_type": "code",
   "execution_count": 33,
   "id": "6853a5a4-a16a-4119-9214-b391d88c0c12",
   "metadata": {},
   "outputs": [
    {
     "data": {
      "text/plain": [
       "5"
      ]
     },
     "execution_count": 33,
     "metadata": {},
     "output_type": "execute_result"
    }
   ],
   "source": [
    "selected_labels = [0,1,2,3,4]\n",
    "(ehr_targets[:, selected_labels].sum(axis=1) == 5).sum()"
   ]
  },
  {
   "cell_type": "code",
   "execution_count": 45,
   "id": "0f42567a-4244-430f-b959-f38c9dfc6834",
   "metadata": {},
   "outputs": [
    {
     "data": {
      "text/plain": [
       "176"
      ]
     },
     "execution_count": 45,
     "metadata": {},
     "output_type": "execute_result"
    }
   ],
   "source": [
    "imbalanced_labels = [1, 2, 5, 6, 10, 11, 15, 17, 18, 19, 20, 21, 23, 24]\n",
    "(ehr_targets[:, imbalanced_labels].sum(axis=1) > 5).sum()"
   ]
  },
  {
   "cell_type": "code",
   "execution_count": 43,
   "id": "95e5e44b-ff18-4259-95a3-42f36d588f1c",
   "metadata": {},
   "outputs": [
    {
     "data": {
      "text/plain": [
       "14"
      ]
     },
     "execution_count": 43,
     "metadata": {},
     "output_type": "execute_result"
    }
   ],
   "source": [
    "len(imbalanced_labels)"
   ]
  },
  {
   "cell_type": "code",
   "execution_count": 50,
   "id": "bb03fdd1-246a-40b3-a487-8de7306cc630",
   "metadata": {
    "scrolled": true
   },
   "outputs": [
    {
     "data": {
      "text/plain": [
       "array([[  39],\n",
       "       [  54],\n",
       "       [ 118],\n",
       "       [ 152],\n",
       "       [ 170],\n",
       "       [ 211],\n",
       "       [ 214],\n",
       "       [ 244],\n",
       "       [ 269],\n",
       "       [ 276],\n",
       "       [ 285],\n",
       "       [ 330],\n",
       "       [ 359],\n",
       "       [ 378],\n",
       "       [ 417],\n",
       "       [ 457],\n",
       "       [ 465],\n",
       "       [ 473],\n",
       "       [ 501],\n",
       "       [ 505],\n",
       "       [ 565],\n",
       "       [ 579],\n",
       "       [ 596],\n",
       "       [ 604],\n",
       "       [ 645],\n",
       "       [ 670],\n",
       "       [ 675],\n",
       "       [ 677],\n",
       "       [ 678],\n",
       "       [ 716],\n",
       "       [ 729],\n",
       "       [ 752],\n",
       "       [ 762],\n",
       "       [ 774],\n",
       "       [ 781],\n",
       "       [ 847],\n",
       "       [ 870],\n",
       "       [ 914],\n",
       "       [ 917],\n",
       "       [ 931],\n",
       "       [ 953],\n",
       "       [ 992],\n",
       "       [1033],\n",
       "       [1043],\n",
       "       [1077],\n",
       "       [1089],\n",
       "       [1155],\n",
       "       [1198],\n",
       "       [1205],\n",
       "       [1305],\n",
       "       [1327],\n",
       "       [1362],\n",
       "       [1370],\n",
       "       [1378],\n",
       "       [1420],\n",
       "       [1423],\n",
       "       [1516],\n",
       "       [1517],\n",
       "       [1531],\n",
       "       [1560],\n",
       "       [1623],\n",
       "       [1624],\n",
       "       [1626],\n",
       "       [1636],\n",
       "       [1641],\n",
       "       [1661],\n",
       "       [1663],\n",
       "       [1666],\n",
       "       [1823],\n",
       "       [1830],\n",
       "       [1868],\n",
       "       [1884],\n",
       "       [1889],\n",
       "       [1911],\n",
       "       [1934],\n",
       "       [1969],\n",
       "       [1987],\n",
       "       [1999],\n",
       "       [2006],\n",
       "       [2038],\n",
       "       [2044],\n",
       "       [2070],\n",
       "       [2071],\n",
       "       [2112],\n",
       "       [2117],\n",
       "       [2125],\n",
       "       [2163],\n",
       "       [2165],\n",
       "       [2174],\n",
       "       [2199],\n",
       "       [2200],\n",
       "       [2293],\n",
       "       [2296],\n",
       "       [2410],\n",
       "       [2446],\n",
       "       [2461],\n",
       "       [2499],\n",
       "       [2512],\n",
       "       [2530],\n",
       "       [2573],\n",
       "       [2580],\n",
       "       [2591],\n",
       "       [2632],\n",
       "       [2704],\n",
       "       [2720],\n",
       "       [2791],\n",
       "       [2820],\n",
       "       [2840],\n",
       "       [2852],\n",
       "       [2891],\n",
       "       [2900],\n",
       "       [2954],\n",
       "       [2998],\n",
       "       [3012],\n",
       "       [3072],\n",
       "       [3076],\n",
       "       [3233],\n",
       "       [3253],\n",
       "       [3325],\n",
       "       [3338],\n",
       "       [3384],\n",
       "       [3398],\n",
       "       [3401],\n",
       "       [3439],\n",
       "       [3459],\n",
       "       [3535],\n",
       "       [3553],\n",
       "       [3562],\n",
       "       [3585],\n",
       "       [3588],\n",
       "       [3603],\n",
       "       [3609],\n",
       "       [3621],\n",
       "       [3650],\n",
       "       [3683],\n",
       "       [3687],\n",
       "       [3711],\n",
       "       [3760],\n",
       "       [3824],\n",
       "       [3879],\n",
       "       [3897],\n",
       "       [3903],\n",
       "       [3913],\n",
       "       [3916],\n",
       "       [3944],\n",
       "       [3955],\n",
       "       [3959],\n",
       "       [3963],\n",
       "       [3965],\n",
       "       [3977],\n",
       "       [4021],\n",
       "       [4132],\n",
       "       [4208],\n",
       "       [4297],\n",
       "       [4311],\n",
       "       [4335],\n",
       "       [4363],\n",
       "       [4372],\n",
       "       [4429],\n",
       "       [4434],\n",
       "       [4460],\n",
       "       [4491],\n",
       "       [4580],\n",
       "       [4603],\n",
       "       [4625],\n",
       "       [4639],\n",
       "       [4680],\n",
       "       [4698],\n",
       "       [4706],\n",
       "       [4783],\n",
       "       [4870],\n",
       "       [4901],\n",
       "       [5010],\n",
       "       [5017],\n",
       "       [5035],\n",
       "       [5117],\n",
       "       [5288],\n",
       "       [5301],\n",
       "       [5304],\n",
       "       [5326],\n",
       "       [5338],\n",
       "       [5361],\n",
       "       [5404],\n",
       "       [5433],\n",
       "       [5445],\n",
       "       [5449],\n",
       "       [5461],\n",
       "       [5507],\n",
       "       [5508],\n",
       "       [5511],\n",
       "       [5523],\n",
       "       [5562],\n",
       "       [5569],\n",
       "       [5653],\n",
       "       [5705],\n",
       "       [5719],\n",
       "       [5725],\n",
       "       [5741],\n",
       "       [5747],\n",
       "       [5749],\n",
       "       [5771],\n",
       "       [5786],\n",
       "       [5794],\n",
       "       [5841],\n",
       "       [5961],\n",
       "       [5987],\n",
       "       [6009],\n",
       "       [6040],\n",
       "       [6066],\n",
       "       [6176],\n",
       "       [6199],\n",
       "       [6200],\n",
       "       [6220],\n",
       "       [6231],\n",
       "       [6282],\n",
       "       [6328],\n",
       "       [6329],\n",
       "       [6336],\n",
       "       [6372],\n",
       "       [6402],\n",
       "       [6430],\n",
       "       [6462],\n",
       "       [6477],\n",
       "       [6493],\n",
       "       [6496],\n",
       "       [6505],\n",
       "       [6526],\n",
       "       [6552],\n",
       "       [6578],\n",
       "       [6643],\n",
       "       [6656],\n",
       "       [6694],\n",
       "       [6695],\n",
       "       [6726],\n",
       "       [6768],\n",
       "       [6774],\n",
       "       [6779],\n",
       "       [6801],\n",
       "       [6802],\n",
       "       [6813],\n",
       "       [6944],\n",
       "       [6946],\n",
       "       [7032],\n",
       "       [7075],\n",
       "       [7141],\n",
       "       [7153],\n",
       "       [7182],\n",
       "       [7197],\n",
       "       [7239],\n",
       "       [7247],\n",
       "       [7284],\n",
       "       [7301],\n",
       "       [7307],\n",
       "       [7317],\n",
       "       [7324],\n",
       "       [7364],\n",
       "       [7395],\n",
       "       [7401],\n",
       "       [7439],\n",
       "       [7480],\n",
       "       [7513],\n",
       "       [7536],\n",
       "       [7552],\n",
       "       [7560],\n",
       "       [7583],\n",
       "       [7620],\n",
       "       [7645],\n",
       "       [7647],\n",
       "       [7653],\n",
       "       [7658],\n",
       "       [7683],\n",
       "       [7690],\n",
       "       [7708],\n",
       "       [7728],\n",
       "       [7749]])"
      ]
     },
     "execution_count": 50,
     "metadata": {},
     "output_type": "execute_result"
    }
   ],
   "source": [
    "np.argwhere(ehr_targets.sum(axis=1) == 0)"
   ]
  },
  {
   "cell_type": "code",
   "execution_count": 52,
   "id": "01b76170-da02-4094-9f83-522cbcaae282",
   "metadata": {},
   "outputs": [
    {
     "data": {
      "text/plain": [
       "array([0, 0, 0, 0, 0, 0, 0, 1, 0, 0, 0, 0, 1, 1, 0, 0, 0, 1, 0, 0, 0, 0,\n",
       "       0, 0, 0], dtype=int32)"
      ]
     },
     "execution_count": 52,
     "metadata": {},
     "output_type": "execute_result"
    }
   ],
   "source": [
    "ehr_targets[40]"
   ]
  },
  {
   "cell_type": "code",
   "execution_count": 7,
   "id": "e2267ce2-8683-42b9-8bda-513b0eea92ac",
   "metadata": {},
   "outputs": [],
   "source": [
    "for task in [\"in-hospital-mortality\", \"phenotyping\"]:\n",
    "    # This will have to be per seed!!\n",
    "    # latent_points = np.load(f\"shamoutlab/latent_space_representation_{task}.npz\")\n",
    "\n",
    "    for seed in [0,1,2,3,4]:\n",
    "        # latent_points = np.load(f\"shamoutlab/latent_space_representation_{task}_seed_{seed}.npz\")\n",
    "        original_train_points = np.load(f\"shamoutlab/train_points_for_context_{task}_seed_{seed}.npz\")\n",
    "\n",
    "        shape = original_train_points[\"ehr_inputs\"].shape[0]\n",
    "\n",
    "        # latent_ehr_points = latent_points[\"ehr_features\"]\n",
    "        # latent_cxr_points = latent_points[\"cxr_features\"]\n",
    "\n",
    "        # cosine_distances = np.diag(cosine_similarity(latent_ehr_points, latent_cxr_points))\n",
    "        # mean_distance = cosine_distances.mean()\n",
    "        # std_distance = cosine_distances.std()\n",
    "\n",
    "        for n_std in [1,2]:\n",
    "            # n_std = 1\n",
    "            # left_tail = mean_distance - n_std*std_distance\n",
    "            # context_points_idx = (cosine_distances < left_tail)\n",
    "            context_points_idx = np.random.choice([True, False], size=shape, p=[0.1, 0.9])\n",
    "\n",
    "            # print(f\"Misclassified points: {context_points_idx.sum()} | Mean: {mean_distance:0.6f} | STD: {std_distance:0.6f} | Left tail: {left_tail:0.6f}\")\n",
    "\n",
    "            ehr_inputs = original_train_points[\"ehr_inputs\"][context_points_idx]\n",
    "            ehr_targets = original_train_points[\"ehr_targets\"][context_points_idx]\n",
    "            cxr_inputs = original_train_points[\"cxr_inputs\"][context_points_idx]\n",
    "            cxr_targets = original_train_points[\"cxr_targets\"][context_points_idx]\n",
    "            ehr_cxr_pairs = original_train_points[\"ehr_cxr_pairs\"][context_points_idx]\n",
    "\n",
    "            print(f\"Shapes\\n EHR inputs: {ehr_inputs.shape} | EHR targets: {ehr_targets.shape} | CXR inputs: {cxr_inputs.shape} | CXR targets: {cxr_targets.shape} | EHR-CXR pairs: {ehr_cxr_pairs.shape}\")\n",
    "\n",
    "            np.savez(f\"shamoutlab/data/MedFuse/ContextPoints/Context-III/{task}/context_set_3_cos_sim_type1_{task}_{n_std}_std_seed_{seed}.npz\", \n",
    "                                        ehr_inputs=ehr_inputs, \n",
    "                                        ehr_targets=ehr_targets, \n",
    "                                        cxr_inputs=cxr_inputs, \n",
    "                                        cxr_targets=cxr_targets, \n",
    "                                        ehr_cxr_pairs=ehr_cxr_pairs)"
   ]
  },
  {
   "cell_type": "code",
   "execution_count": 8,
   "id": "0edd3ebe-5b71-49d1-a1c4-9f91e3c60b5c",
   "metadata": {},
   "outputs": [
    {
     "data": {
      "text/plain": [
       "(7841, 100, 76)"
      ]
     },
     "execution_count": 8,
     "metadata": {},
     "output_type": "execute_result"
    }
   ],
   "source": [
    "ehr_inputs.shape"
   ]
  }
 ],
 "metadata": {
  "kernelspec": {
   "display_name": "uq-wq",
   "language": "python",
   "name": "myenv"
  },
  "language_info": {
   "codemirror_mode": {
    "name": "ipython",
    "version": 3
   },
   "file_extension": ".py",
   "mimetype": "text/x-python",
   "name": "python",
   "nbconvert_exporter": "python",
   "pygments_lexer": "ipython3",
   "version": "3.10.9"
  }
 },
 "nbformat": 4,
 "nbformat_minor": 5
}
